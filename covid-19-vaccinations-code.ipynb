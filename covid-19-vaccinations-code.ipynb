{
 "cells": [
  {
   "cell_type": "markdown",
   "id": "6e849ee7",
   "metadata": {},
   "source": [
    "# A short analysis of the vaccinations per country and the vaccines used\n",
    "\n",
    "## COVID-19 World Vaccination Progress Dataset\n",
    "\n",
    "\n",
    "### Raul Almuzara"
   ]
  },
  {
   "cell_type": "markdown",
   "id": "95f52753",
   "metadata": {},
   "source": [
    "--------------------------------"
   ]
  },
  {
   "cell_type": "markdown",
   "id": "eba47c16",
   "metadata": {},
   "source": [
    "Using the dataset\n",
    "\n",
    "https://www.kaggle.com/gpreda/covid-world-vaccination-progress\n",
    "\n",
    "We find:\n",
    "\n",
    "(a) The ranking of countries based on the number of people fully vaccinated.\n",
    "\n",
    "(b) The ranking of countries based on the number of people fully vaccinated per hundred.\n",
    "\n",
    "(c) The list with the vaccines used.\n",
    "\n",
    "(d) The number of vaccines of each type used in the European Union."
   ]
  },
  {
   "cell_type": "markdown",
   "id": "e6de5d2c",
   "metadata": {},
   "source": [
    "----------------------------------------"
   ]
  },
  {
   "cell_type": "markdown",
   "id": "a8eb5167",
   "metadata": {},
   "source": [
    "#### Import libraries:"
   ]
  },
  {
   "cell_type": "code",
   "execution_count": 1,
   "id": "f225b915",
   "metadata": {},
   "outputs": [],
   "source": [
    "import numpy as np\n",
    "import pandas as pd\n",
    "import matplotlib.pyplot as plt"
   ]
  },
  {
   "cell_type": "markdown",
   "id": "7d5527da",
   "metadata": {},
   "source": [
    "#### Load datasets:"
   ]
  },
  {
   "cell_type": "markdown",
   "id": "fd029967",
   "metadata": {},
   "source": [
    "Two datasets are provided. Both files can be downloaded in the Kaggle link above (version 249). They are also in this GitHub repository. They must be placed in the same folder as this notebook if no path is specified."
   ]
  },
  {
   "cell_type": "code",
   "execution_count": 2,
   "id": "951a03c5",
   "metadata": {},
   "outputs": [],
   "source": [
    "data1 = pd.read_csv('country-vaccinations-v249.csv',sep=',')\n",
    "data2 = pd.read_csv('country-vaccinations-by-manufacturer-v249.csv',sep=',')"
   ]
  },
  {
   "cell_type": "markdown",
   "id": "2fadc08c",
   "metadata": {},
   "source": [
    "#### Note that the dataset is updated very often with new data every few days. The latest data available when this analysis was carried out was version 249 uploaded on March 31, 2022."
   ]
  },
  {
   "cell_type": "markdown",
   "id": "6c59a694",
   "metadata": {},
   "source": [
    "-----------------------------------"
   ]
  },
  {
   "cell_type": "markdown",
   "id": "d88c3128",
   "metadata": {},
   "source": [
    "# Task (a) - The ranking of countries based on the number of people fully vaccinated"
   ]
  },
  {
   "cell_type": "markdown",
   "id": "c9d67bfe",
   "metadata": {},
   "source": [
    "We have data for different days and the numbers in the attribute *people_fully_vaccinated* are cumulative.\n",
    "\n",
    "In total, the dataset has 223 countries:"
   ]
  },
  {
   "cell_type": "code",
   "execution_count": 3,
   "id": "aeb54b36",
   "metadata": {},
   "outputs": [
    {
     "data": {
      "text/plain": [
       "223"
      ]
     },
     "execution_count": 3,
     "metadata": {},
     "output_type": "execute_result"
    }
   ],
   "source": [
    "len(np.unique(data1['country']))"
   ]
  },
  {
   "cell_type": "markdown",
   "id": "3beb7d1f",
   "metadata": {},
   "source": [
    "We will need to retrieve the value for the latest date where there is available data (when we do not have the NaN value) for each country.\n",
    "\n",
    "Since NaN values in the attribute *people_fully_vaccinated* do not provide information, we drop them."
   ]
  },
  {
   "cell_type": "code",
   "execution_count": 4,
   "id": "1fb1ff8b",
   "metadata": {},
   "outputs": [],
   "source": [
    "clean_data1 = data1.dropna(subset=['people_fully_vaccinated'])"
   ]
  },
  {
   "cell_type": "markdown",
   "id": "18562045",
   "metadata": {},
   "source": [
    "In this version of the dataset, all countries have at least one numerical value for *people_fully_vaccinated* at some date."
   ]
  },
  {
   "cell_type": "code",
   "execution_count": 5,
   "id": "d50b2336",
   "metadata": {},
   "outputs": [
    {
     "data": {
      "text/plain": [
       "223"
      ]
     },
     "execution_count": 5,
     "metadata": {},
     "output_type": "execute_result"
    }
   ],
   "source": [
    "len(np.unique(clean_data1['country']))"
   ]
  },
  {
   "cell_type": "markdown",
   "id": "ddf9c33a",
   "metadata": {},
   "source": [
    "Maybe that date is not always the latest possible, but we will consider them as a good approximation of the state of vaccination in a country as of March 2022."
   ]
  },
  {
   "cell_type": "markdown",
   "id": "7505e358",
   "metadata": {},
   "source": [
    "We define the following two arrays to store the countries and the desired values of the attribute."
   ]
  },
  {
   "cell_type": "code",
   "execution_count": 6,
   "id": "1c156eb7",
   "metadata": {},
   "outputs": [],
   "source": [
    "list_countries = np.unique(clean_data1['country']) # Full list of countries in the dataset\n",
    "\n",
    "latest_vaccinations = np.array([]) # Here, we will save the latest values for 'people_fully_vaccinated'"
   ]
  },
  {
   "cell_type": "markdown",
   "id": "91d1dfe1",
   "metadata": {},
   "source": [
    "We iterate over each country."
   ]
  },
  {
   "cell_type": "code",
   "execution_count": 7,
   "id": "8020edc7",
   "metadata": {},
   "outputs": [],
   "source": [
    "for country in list_countries:\n",
    "    latest_vaccinations = np.append(latest_vaccinations,\n",
    "                                    clean_data1[clean_data1['country']==country] # Append the data for each country\n",
    "                                    .iloc[-1]['people_fully_vaccinated'])\n",
    "                                    # We find the latest data in the index -1 (last instance of each country)"
   ]
  },
  {
   "cell_type": "markdown",
   "id": "32797ea9",
   "metadata": {},
   "source": [
    "Thus, we end up with a dataframe where each country can be associated with the desired value:"
   ]
  },
  {
   "cell_type": "code",
   "execution_count": 8,
   "id": "7b73fc82",
   "metadata": {},
   "outputs": [],
   "source": [
    "fully_vaccinated = pd.DataFrame({'country': list_countries,\n",
    "                                'people_fully_vaccinated': latest_vaccinations})"
   ]
  },
  {
   "cell_type": "markdown",
   "id": "ada896c2",
   "metadata": {},
   "source": [
    "Finally, we sort the data to create a ranking"
   ]
  },
  {
   "cell_type": "code",
   "execution_count": 9,
   "id": "680e329a",
   "metadata": {},
   "outputs": [],
   "source": [
    "ranking1 = fully_vaccinated.sort_values(by=['people_fully_vaccinated'],ascending=False,ignore_index=True)"
   ]
  },
  {
   "cell_type": "code",
   "execution_count": 10,
   "id": "b77d31e2",
   "metadata": {},
   "outputs": [
    {
     "data": {
      "text/html": [
       "<div>\n",
       "<style scoped>\n",
       "    .dataframe tbody tr th:only-of-type {\n",
       "        vertical-align: middle;\n",
       "    }\n",
       "\n",
       "    .dataframe tbody tr th {\n",
       "        vertical-align: top;\n",
       "    }\n",
       "\n",
       "    .dataframe thead th {\n",
       "        text-align: right;\n",
       "    }\n",
       "</style>\n",
       "<table border=\"1\" class=\"dataframe\">\n",
       "  <thead>\n",
       "    <tr style=\"text-align: right;\">\n",
       "      <th></th>\n",
       "      <th>country</th>\n",
       "      <th>people_fully_vaccinated</th>\n",
       "    </tr>\n",
       "  </thead>\n",
       "  <tbody>\n",
       "    <tr>\n",
       "      <th>0</th>\n",
       "      <td>China</td>\n",
       "      <td>1.240777e+09</td>\n",
       "    </tr>\n",
       "    <tr>\n",
       "      <th>1</th>\n",
       "      <td>India</td>\n",
       "      <td>8.282295e+08</td>\n",
       "    </tr>\n",
       "    <tr>\n",
       "      <th>2</th>\n",
       "      <td>United States</td>\n",
       "      <td>2.174990e+08</td>\n",
       "    </tr>\n",
       "    <tr>\n",
       "      <th>3</th>\n",
       "      <td>Brazil</td>\n",
       "      <td>1.602729e+08</td>\n",
       "    </tr>\n",
       "    <tr>\n",
       "      <th>4</th>\n",
       "      <td>Indonesia</td>\n",
       "      <td>1.588305e+08</td>\n",
       "    </tr>\n",
       "    <tr>\n",
       "      <th>...</th>\n",
       "      <td>...</td>\n",
       "      <td>...</td>\n",
       "    </tr>\n",
       "    <tr>\n",
       "      <th>218</th>\n",
       "      <td>Montserrat</td>\n",
       "      <td>1.804000e+03</td>\n",
       "    </tr>\n",
       "    <tr>\n",
       "      <th>219</th>\n",
       "      <td>Falkland Islands</td>\n",
       "      <td>1.775000e+03</td>\n",
       "    </tr>\n",
       "    <tr>\n",
       "      <th>220</th>\n",
       "      <td>Niue</td>\n",
       "      <td>1.417000e+03</td>\n",
       "    </tr>\n",
       "    <tr>\n",
       "      <th>221</th>\n",
       "      <td>Tokelau</td>\n",
       "      <td>9.680000e+02</td>\n",
       "    </tr>\n",
       "    <tr>\n",
       "      <th>222</th>\n",
       "      <td>Pitcairn</td>\n",
       "      <td>4.700000e+01</td>\n",
       "    </tr>\n",
       "  </tbody>\n",
       "</table>\n",
       "<p>223 rows × 2 columns</p>\n",
       "</div>"
      ],
      "text/plain": [
       "              country  people_fully_vaccinated\n",
       "0               China             1.240777e+09\n",
       "1               India             8.282295e+08\n",
       "2       United States             2.174990e+08\n",
       "3              Brazil             1.602729e+08\n",
       "4           Indonesia             1.588305e+08\n",
       "..                ...                      ...\n",
       "218        Montserrat             1.804000e+03\n",
       "219  Falkland Islands             1.775000e+03\n",
       "220              Niue             1.417000e+03\n",
       "221           Tokelau             9.680000e+02\n",
       "222          Pitcairn             4.700000e+01\n",
       "\n",
       "[223 rows x 2 columns]"
      ]
     },
     "execution_count": 10,
     "metadata": {},
     "output_type": "execute_result"
    }
   ],
   "source": [
    "ranking1"
   ]
  },
  {
   "cell_type": "markdown",
   "id": "8a41830d",
   "metadata": {},
   "source": [
    "So, this is the final result according to the available data about *people_fully_vaccinated*.\n",
    "\n",
    "The countries with the highest number of fully vaccinated people are China, India, the United States, Brazil and Indonesia. They also happen to be among the most populated countries in the world, so it makes sense.\n",
    "\n",
    "On the contrary, the countries with the lowest number of fully vaccinated people are Montserrat, the Falkland Islands, Niue, Tokelau and Pitcairn. They are regions with an extremely low number of inhabitants."
   ]
  },
  {
   "cell_type": "markdown",
   "id": "2da07b2c",
   "metadata": {},
   "source": [
    "--------------------------------------"
   ]
  },
  {
   "cell_type": "markdown",
   "id": "ee3f7e20",
   "metadata": {},
   "source": [
    "# Task (b) - The ranking of countries based on the number of people fully vaccinated per hundred"
   ]
  },
  {
   "cell_type": "markdown",
   "id": "51d5e572",
   "metadata": {},
   "source": [
    "This is the ratio (in percent) between population fully immunized and total population up to the date in the country. It could be interesting to study ratios instead of absolute numbers as in Task (a). The absolute numbers that were described in Task (a) strongly depend on how populated a country is. Obviously, if a country has many inhabitants, there is a higher chance that the country will have more vaccinated people than countries with few inhabitants, so the ranking is led by highly populated countries. The ratio in the attribute *people_fully_vaccinated_per_hundred* may solve this bias."
   ]
  },
  {
   "cell_type": "markdown",
   "id": "f3b9d2bb",
   "metadata": {},
   "source": [
    "Proceeding as in Task (a), we will obtain a new ranking based on this new attribute."
   ]
  },
  {
   "cell_type": "code",
   "execution_count": 11,
   "id": "cc1cb058",
   "metadata": {},
   "outputs": [],
   "source": [
    "clean_data1_h = data1.dropna(subset=['people_fully_vaccinated_per_hundred'])\n",
    "\n",
    "latest_ratio = np.array([]) # Here, we will save the latest values for 'people_fully_vaccinated_per_hundred'\n",
    "\n",
    "for country in list_countries:\n",
    "    latest_ratio = np.append(latest_ratio,\n",
    "                            clean_data1_h[clean_data1_h['country']==country]\n",
    "                            .iloc[-1]['people_fully_vaccinated_per_hundred'])\n",
    "\n",
    "ratio_fully_vaccinated = pd.DataFrame({'country': list_countries,\n",
    "                                'people_fully_vaccinated_per_hundred': latest_ratio})\n",
    "\n",
    "ranking2 = ratio_fully_vaccinated.sort_values(by=['people_fully_vaccinated_per_hundred'],ascending=False,ignore_index=True)"
   ]
  },
  {
   "cell_type": "code",
   "execution_count": 12,
   "id": "d0321ad5",
   "metadata": {},
   "outputs": [
    {
     "data": {
      "text/html": [
       "<div>\n",
       "<style scoped>\n",
       "    .dataframe tbody tr th:only-of-type {\n",
       "        vertical-align: middle;\n",
       "    }\n",
       "\n",
       "    .dataframe tbody tr th {\n",
       "        vertical-align: top;\n",
       "    }\n",
       "\n",
       "    .dataframe thead th {\n",
       "        text-align: right;\n",
       "    }\n",
       "</style>\n",
       "<table border=\"1\" class=\"dataframe\">\n",
       "  <thead>\n",
       "    <tr style=\"text-align: right;\">\n",
       "      <th></th>\n",
       "      <th>country</th>\n",
       "      <th>people_fully_vaccinated_per_hundred</th>\n",
       "    </tr>\n",
       "  </thead>\n",
       "  <tbody>\n",
       "    <tr>\n",
       "      <th>0</th>\n",
       "      <td>Gibraltar</td>\n",
       "      <td>122.37</td>\n",
       "    </tr>\n",
       "    <tr>\n",
       "      <th>1</th>\n",
       "      <td>Pitcairn</td>\n",
       "      <td>100.00</td>\n",
       "    </tr>\n",
       "    <tr>\n",
       "      <th>2</th>\n",
       "      <td>United Arab Emirates</td>\n",
       "      <td>96.12</td>\n",
       "    </tr>\n",
       "    <tr>\n",
       "      <th>3</th>\n",
       "      <td>Portugal</td>\n",
       "      <td>92.60</td>\n",
       "    </tr>\n",
       "    <tr>\n",
       "      <th>4</th>\n",
       "      <td>Brunei</td>\n",
       "      <td>91.71</td>\n",
       "    </tr>\n",
       "    <tr>\n",
       "      <th>...</th>\n",
       "      <td>...</td>\n",
       "      <td>...</td>\n",
       "    </tr>\n",
       "    <tr>\n",
       "      <th>218</th>\n",
       "      <td>Yemen</td>\n",
       "      <td>1.33</td>\n",
       "    </tr>\n",
       "    <tr>\n",
       "      <th>219</th>\n",
       "      <td>Haiti</td>\n",
       "      <td>0.97</td>\n",
       "    </tr>\n",
       "    <tr>\n",
       "      <th>220</th>\n",
       "      <td>Chad</td>\n",
       "      <td>0.91</td>\n",
       "    </tr>\n",
       "    <tr>\n",
       "      <th>221</th>\n",
       "      <td>Democratic Republic of Congo</td>\n",
       "      <td>0.56</td>\n",
       "    </tr>\n",
       "    <tr>\n",
       "      <th>222</th>\n",
       "      <td>Burundi</td>\n",
       "      <td>0.08</td>\n",
       "    </tr>\n",
       "  </tbody>\n",
       "</table>\n",
       "<p>223 rows × 2 columns</p>\n",
       "</div>"
      ],
      "text/plain": [
       "                          country  people_fully_vaccinated_per_hundred\n",
       "0                       Gibraltar                               122.37\n",
       "1                        Pitcairn                               100.00\n",
       "2            United Arab Emirates                                96.12\n",
       "3                        Portugal                                92.60\n",
       "4                          Brunei                                91.71\n",
       "..                            ...                                  ...\n",
       "218                         Yemen                                 1.33\n",
       "219                         Haiti                                 0.97\n",
       "220                          Chad                                 0.91\n",
       "221  Democratic Republic of Congo                                 0.56\n",
       "222                       Burundi                                 0.08\n",
       "\n",
       "[223 rows x 2 columns]"
      ]
     },
     "execution_count": 12,
     "metadata": {},
     "output_type": "execute_result"
    }
   ],
   "source": [
    "ranking2"
   ]
  },
  {
   "cell_type": "markdown",
   "id": "1289fc3b",
   "metadata": {},
   "source": [
    "There seems to be a strange value because Gibraltar has a ratio higher than 100%. Gibraltar reached an extremely high ratio (very close to 100%), but it does not have a large population. That may have caused some kind of numerical error, or maybe some data have been preprocessed in an unexpected way.\n",
    "\n",
    "Other countries with high vaccination ratios seem to be Pitcairn, the United Arab Emirates, Portugal and Brunei. None of them appeared in the top 5 of the ranking in Task (a), so this gives a new perspective taking into account both the number of vaccinations and the population of the country.\n",
    "\n",
    "On the contrary, we see that countries such as Yemen, Haiti, Chad, the Democratic Republic of Congo or Burundi seem to have the lowest vaccination ratios according to this dataset. They happen to be among the poorest countries in the world."
   ]
  },
  {
   "cell_type": "markdown",
   "id": "dfe6ab02",
   "metadata": {},
   "source": [
    "-----------------------------------"
   ]
  },
  {
   "cell_type": "markdown",
   "id": "ed758b3b",
   "metadata": {},
   "source": [
    "# Task (c) - The list with the vaccines used"
   ]
  },
  {
   "cell_type": "markdown",
   "id": "3b40632d",
   "metadata": {},
   "source": [
    "This information is available in the first dataset in the attribute *vaccines*. We can access this information for each country. For example, in Afghanistan:"
   ]
  },
  {
   "cell_type": "code",
   "execution_count": 13,
   "id": "861d0027",
   "metadata": {
    "scrolled": true
   },
   "outputs": [
    {
     "data": {
      "text/plain": [
       "array(['Johnson&Johnson, Oxford/AstraZeneca, Pfizer/BioNTech, Sinopharm/Beijing'],\n",
       "      dtype=object)"
      ]
     },
     "execution_count": 13,
     "metadata": {},
     "output_type": "execute_result"
    }
   ],
   "source": [
    "np.unique(data1[data1['country']=='Afghanistan']['vaccines'])"
   ]
  },
  {
   "cell_type": "markdown",
   "id": "8a4b1ec7",
   "metadata": {},
   "source": [
    "However, the full list of vaccines is more easily accesible in the SECOND dataset in the attribute *vaccine*, where each type of vaccine has its own row, so we can make a full list with each vaccine extracted individually."
   ]
  },
  {
   "cell_type": "code",
   "execution_count": 14,
   "id": "443d3c11",
   "metadata": {},
   "outputs": [
    {
     "data": {
      "text/plain": [
       "array(['CanSino', 'Covaxin', 'Johnson&Johnson', 'Moderna', 'Novavax',\n",
       "       'Oxford/AstraZeneca', 'Pfizer/BioNTech', 'Sinopharm/Beijing',\n",
       "       'Sinovac', 'Sputnik V'], dtype=object)"
      ]
     },
     "execution_count": 14,
     "metadata": {},
     "output_type": "execute_result"
    }
   ],
   "source": [
    "np.unique(data2['vaccine'])"
   ]
  },
  {
   "cell_type": "markdown",
   "id": "5388cc60",
   "metadata": {},
   "source": [
    "--------------------------------------------"
   ]
  },
  {
   "cell_type": "markdown",
   "id": "ca9d378f",
   "metadata": {},
   "source": [
    "# Task (d) - The number of vaccines of each type used in the European Union"
   ]
  },
  {
   "cell_type": "markdown",
   "id": "6dff6e11",
   "metadata": {},
   "source": [
    "Finally, we can extract another piece of information from the second dataset. There, we have seen in Task (c) that there is a row for each type of vaccine in each day in each country. But also, in the attribute *total_vaccinations*, we have the exact number of vaccines of each type in each day in each country. This could give us an idea of which vaccines were more widely used in the selection of 42 countries + the European Union as a whole that appear in this second dataset."
   ]
  },
  {
   "cell_type": "code",
   "execution_count": 15,
   "id": "d8de6bae",
   "metadata": {},
   "outputs": [
    {
     "data": {
      "text/plain": [
       "array(['Argentina', 'Austria', 'Belgium', 'Bulgaria', 'Chile', 'Croatia',\n",
       "       'Cyprus', 'Czechia', 'Denmark', 'Ecuador', 'Estonia',\n",
       "       'European Union', 'Finland', 'France', 'Germany', 'Hong Kong',\n",
       "       'Hungary', 'Iceland', 'Ireland', 'Italy', 'Japan', 'Latvia',\n",
       "       'Liechtenstein', 'Lithuania', 'Luxembourg', 'Malta', 'Nepal',\n",
       "       'Netherlands', 'Norway', 'Peru', 'Poland', 'Portugal', 'Romania',\n",
       "       'Slovakia', 'Slovenia', 'South Africa', 'South Korea', 'Spain',\n",
       "       'Sweden', 'Switzerland', 'Ukraine', 'United States', 'Uruguay'],\n",
       "      dtype=object)"
      ]
     },
     "execution_count": 15,
     "metadata": {},
     "output_type": "execute_result"
    }
   ],
   "source": [
    "np.unique(data2['location'])"
   ]
  },
  {
   "cell_type": "markdown",
   "id": "2b858379",
   "metadata": {},
   "source": [
    "Again, the data about the number of vaccines of each type are cumulative, so we will pay attention to the most recent value of each type.\n",
    "\n",
    "For example, we could study the data in the European Union. The different types of COVID-19 vaccines administered in the European Union are the following:"
   ]
  },
  {
   "cell_type": "code",
   "execution_count": 16,
   "id": "463b8519",
   "metadata": {},
   "outputs": [],
   "source": [
    "types_EU = np.unique(data2[data2['location']=='European Union']['vaccine'])"
   ]
  },
  {
   "cell_type": "code",
   "execution_count": 17,
   "id": "974ba400",
   "metadata": {},
   "outputs": [
    {
     "data": {
      "text/plain": [
       "array(['Covaxin', 'Johnson&Johnson', 'Moderna', 'Novavax',\n",
       "       'Oxford/AstraZeneca', 'Pfizer/BioNTech', 'Sinopharm/Beijing',\n",
       "       'Sinovac', 'Sputnik V'], dtype=object)"
      ]
     },
     "execution_count": 17,
     "metadata": {},
     "output_type": "execute_result"
    }
   ],
   "source": [
    "types_EU"
   ]
  },
  {
   "cell_type": "markdown",
   "id": "4067a7ea",
   "metadata": {},
   "source": [
    "So we keep the latest values in this dataset (from March 29, 2022)."
   ]
  },
  {
   "cell_type": "code",
   "execution_count": 18,
   "id": "734b75d6",
   "metadata": {},
   "outputs": [],
   "source": [
    "cova = data2[(data2['location']=='European Union') & \n",
    "             (data2['date']=='2022-03-29') & \n",
    "             (data2['vaccine']=='Covaxin')]['total_vaccinations'].iloc[0]\n",
    "\n",
    "jandj = data2[(data2['location']=='European Union') & \n",
    "              (data2['date']=='2022-03-29') & \n",
    "              (data2['vaccine']=='Johnson&Johnson')]['total_vaccinations'].iloc[0]\n",
    "\n",
    "mod = data2[(data2['location']=='European Union') & \n",
    "              (data2['date']=='2022-03-29') & \n",
    "              (data2['vaccine']=='Moderna')]['total_vaccinations'].iloc[0]\n",
    "\n",
    "nova = data2[(data2['location']=='European Union') & \n",
    "              (data2['date']=='2022-03-29') & \n",
    "              (data2['vaccine']=='Novavax')]['total_vaccinations'].iloc[0]\n",
    "\n",
    "oxfast = data2[(data2['location']=='European Union') & \n",
    "              (data2['date']=='2022-03-29') & \n",
    "              (data2['vaccine']=='Oxford/AstraZeneca')]['total_vaccinations'].iloc[0]\n",
    "\n",
    "pfibio = data2[(data2['location']=='European Union') & \n",
    "              (data2['date']=='2022-03-29') & \n",
    "              (data2['vaccine']=='Pfizer/BioNTech')]['total_vaccinations'].iloc[0]\n",
    "\n",
    "sinobei = data2[(data2['location']=='European Union') & \n",
    "              (data2['date']=='2022-03-29') & \n",
    "              (data2['vaccine']=='Sinopharm/Beijing')]['total_vaccinations'].iloc[0]\n",
    "\n",
    "sinov = data2[(data2['location']=='European Union') & \n",
    "              (data2['date']=='2022-03-29') & \n",
    "              (data2['vaccine']=='Sinovac')]['total_vaccinations'].iloc[0]\n",
    "\n",
    "sput = data2[(data2['location']=='European Union') & \n",
    "              (data2['date']=='2022-03-29') & \n",
    "              (data2['vaccine']=='Sputnik V')]['total_vaccinations'].iloc[0]\n",
    "\n",
    "numbers_EU = [cova,jandj,mod,nova,oxfast,pfibio,sinobei,sinov,sput]"
   ]
  },
  {
   "cell_type": "code",
   "execution_count": 19,
   "id": "4f2c7708",
   "metadata": {},
   "outputs": [
    {
     "name": "stdout",
     "output_type": "stream",
     "text": [
      "Covaxin: 11\n",
      "Johnson&Johnson: 18556428\n",
      "Moderna: 145331851\n",
      "Novavax: 118968\n",
      "Oxford/AstraZeneca: 67403106\n",
      "Pfizer/BioNTech: 600519998\n",
      "Sinopharm/Beijing: 2301516\n",
      "Sinovac: 1809\n",
      "Sputnik V: 1845103\n"
     ]
    }
   ],
   "source": [
    "for i in range(len(types_EU)):\n",
    "    print(types_EU[i]+': '+str(numbers_EU[i]))"
   ]
  },
  {
   "cell_type": "markdown",
   "id": "13768f19",
   "metadata": {},
   "source": [
    "A bar plot is helpful to understand the relative magnitude of each number with respect to the others."
   ]
  },
  {
   "cell_type": "code",
   "execution_count": 20,
   "id": "4092ebda",
   "metadata": {},
   "outputs": [
    {
     "data": {
      "image/png": "[encoded data removed]",
      "text/plain": [
       "<Figure size 720x432 with 1 Axes>"
      ]
     },
     "metadata": {
      "needs_background": "light"
     },
     "output_type": "display_data"
    }
   ],
   "source": [
    "plt.figure(figsize=(10,6))\n",
    "plt.bar(types_EU,numbers_EU)\n",
    "plt.xticks(types_EU,rotation='vertical')\n",
    "plt.yticks(numbers_EU)\n",
    "plt.xlabel('Type of vaccine')\n",
    "plt.ylabel('Number of vaccines')\n",
    "plt.title('COVID-19 vaccines administered in the European Union until March 29, 2022')\n",
    "plt.show()"
   ]
  },
  {
   "cell_type": "code",
   "execution_count": null,
   "id": "a18a13f3",
   "metadata": {
    "scrolled": false
   },
   "outputs": [],
   "source": []
  }
 ],
 "metadata": {
  "kernelspec": {
   "display_name": "Python 3 (ipykernel)",
   "language": "python",
   "name": "python3"
  },
  "language_info": {
   "codemirror_mode": {
    "name": "ipython",
    "version": 3
   },
   "file_extension": ".py",
   "mimetype": "text/x-python",
   "name": "python",
   "nbconvert_exporter": "python",
   "pygments_lexer": "ipython3",
   "version": "3.9.7"
  }
 },
 "nbformat": 4,
 "nbformat_minor": 5
}
